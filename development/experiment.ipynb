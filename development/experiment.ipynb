{
 "cells": [
  {
   "cell_type": "markdown",
   "id": "26b26b58-8258-4df7-be9c-c1aa3980b82f",
   "metadata": {},
   "source": [
    "# Utilities"
   ]
  },
  {
   "cell_type": "code",
   "execution_count": 25,
   "id": "34486e01-8ece-4d04-b02d-15c011111903",
   "metadata": {},
   "outputs": [],
   "source": [
    "def search_ticker(query):\n",
    "    stock = yf.Ticker(query)\n",
    "    info = stock.info\n",
    "    print(f\"Available attributes: {', '.join(info.keys())}\")\n",
    "    \n",
    "    print(f\"Ticker: {query}\")\n",
    "    print(f\"Short Name: {info.get('shortName', 'Not Found')}\")\n",
    "    print(f\"Long Name: {info.get('longName', 'Not Found')}\")\n",
    "    print(f\"Sector: {info.get('sector', 'Not Found')}\")\n",
    "    print(f\"Industry: {info.get('industry', 'Not Found')}\")\n",
    "    print(f\"Country: {info.get('country', 'Not Found')}\")\n",
    "    print(f\"Currency: {info.get('currency', 'Not Found')}\")\n",
    "    print(f\"Exchange: {info.get('exchange', 'Not Found')}\")\n",
    "    print(f\"Previous Close: {info.get('regularMarketPreviousClose', 'Not Found')}\")\n",
    "    print(f\"Market Cap: {info.get('marketCap', 'Not Found')}\")\n",
    "    print(\"\")"
   ]
  },
  {
   "cell_type": "code",
   "execution_count": 26,
   "id": "0bf48845-9a8e-4455-90c5-67db65239d19",
   "metadata": {},
   "outputs": [
    {
     "name": "stdout",
     "output_type": "stream",
     "text": [
      "Available attributes: phone, maxAge, priceHint, previousClose, open, dayLow, dayHigh, regularMarketPreviousClose, regularMarketOpen, regularMarketDayLow, regularMarketDayHigh, volume, regularMarketVolume, averageVolume, averageVolume10days, averageDailyVolume10Day, bid, ask, totalAssets, fiftyTwoWeekLow, fiftyTwoWeekHigh, fiftyDayAverage, twoHundredDayAverage, navPrice, currency, ytdReturn, fundFamily, fundInceptionDate, legalType, threeYearAverageReturn, fiveYearAverageReturn, exchange, quoteType, symbol, underlyingSymbol, shortName, longName, firstTradeDateEpochUtc, timeZoneFullName, timeZoneShortName, uuid, messageBoardId, gmtOffSetMilliseconds, trailingPegRatio\n",
      "Ticker: 00631L.TW\n",
      "Short Name: YUANTA SECURITIES INV TRUST CO \n",
      "Long Name: Yuanta Daily Taiwan 50 Bull 2X ETF\n",
      "Sector: Not Found\n",
      "Industry: Not Found\n",
      "Country: Not Found\n",
      "Currency: TWD\n",
      "Exchange: TAI\n",
      "Previous Close: 207.05\n",
      "Market Cap: Not Found\n",
      "\n"
     ]
    }
   ],
   "source": [
    "# search_ticker(\"AAPL\")\n",
    "# search_ticker(\"TSLA\")\n",
    "search_ticker(\"00631L.TW\")  # Yuanta Daily Taiwan 50 Bull 2X ETF"
   ]
  },
  {
   "cell_type": "markdown",
   "id": "8cdd4aa1-0df9-4fa4-9bd0-e7d963e26809",
   "metadata": {},
   "source": [
    "# Initialize Spark Session"
   ]
  },
  {
   "cell_type": "code",
   "execution_count": 2,
   "id": "d7e5fba7-de8b-4ac1-aa7d-c1f1d27f7f63",
   "metadata": {},
   "outputs": [],
   "source": [
    "import pandas as pd\n",
    "import matplotlib.pyplot as plt\n",
    "from pyspark.sql import SparkSession\n",
    "from pyspark.sql.functions import col, avg\n",
    "\n",
    "spark = SparkSession.builder \\\n",
    "    .appName(\"Backtesting 00631L Strategy\") \\\n",
    "    .getOrCreate()"
   ]
  },
  {
   "cell_type": "markdown",
   "id": "82f343ef-f3ff-4e22-b5b7-6791c6da98eb",
   "metadata": {},
   "source": [
    "# Load and Prepare data"
   ]
  },
  {
   "cell_type": "code",
   "execution_count": 4,
   "id": "87a5563a-0290-40ff-a45e-542788c2e434",
   "metadata": {},
   "outputs": [
    {
     "name": "stdout",
     "output_type": "stream",
     "text": [
      "Collecting yfinance\n",
      "  Downloading yfinance-0.2.38-py2.py3-none-any.whl.metadata (11 kB)\n",
      "Requirement already satisfied: pandas>=1.3.0 in ./.venv/lib/python3.12/site-packages (from yfinance) (2.2.2)\n",
      "Requirement already satisfied: numpy>=1.16.5 in ./.venv/lib/python3.12/site-packages (from yfinance) (1.26.4)\n",
      "Requirement already satisfied: requests>=2.31 in ./.venv/lib/python3.12/site-packages (from yfinance) (2.31.0)\n",
      "Collecting multitasking>=0.0.7 (from yfinance)\n",
      "  Downloading multitasking-0.0.11-py3-none-any.whl.metadata (5.5 kB)\n",
      "Collecting lxml>=4.9.1 (from yfinance)\n",
      "  Using cached lxml-5.2.2-cp312-cp312-macosx_10_9_universal2.whl.metadata (3.4 kB)\n",
      "Collecting appdirs>=1.4.4 (from yfinance)\n",
      "  Downloading appdirs-1.4.4-py2.py3-none-any.whl.metadata (9.0 kB)\n",
      "Requirement already satisfied: pytz>=2022.5 in ./.venv/lib/python3.12/site-packages (from yfinance) (2024.1)\n",
      "Collecting frozendict>=2.3.4 (from yfinance)\n",
      "  Downloading frozendict-2.4.4.tar.gz (315 kB)\n",
      "\u001b[2K     \u001b[38;2;114;156;31m━━━━━━━━━━━━━━━━━━━━━━━━━━━━━━━━━━━━━━━\u001b[0m \u001b[32m315.9/315.9 kB\u001b[0m \u001b[31m1.2 MB/s\u001b[0m eta \u001b[36m0:00:00\u001b[0m MB/s\u001b[0m eta \u001b[36m0:00:01\u001b[0m:01\u001b[0m\n",
      "\u001b[?25h  Installing build dependencies ... \u001b[?25ldone\n",
      "\u001b[?25h  Getting requirements to build wheel ... \u001b[?25ldone\n",
      "\u001b[?25h  Installing backend dependencies ... \u001b[?25ldone\n",
      "\u001b[?25h  Preparing metadata (pyproject.toml) ... \u001b[?25ldone\n",
      "\u001b[?25hCollecting peewee>=3.16.2 (from yfinance)\n",
      "  Downloading peewee-3.17.5.tar.gz (3.0 MB)\n",
      "\u001b[2K     \u001b[38;2;114;156;31m━━━━━━━━━━━━━━━━━━━━━━━━━━━━━━━━━━━━━━━━\u001b[0m \u001b[32m3.0/3.0 MB\u001b[0m \u001b[31m6.9 MB/s\u001b[0m eta \u001b[36m0:00:00\u001b[0m[36m0:00:01\u001b[0mm eta \u001b[36m0:00:01\u001b[0m\n",
      "\u001b[?25h  Installing build dependencies ... \u001b[?25ldone\n",
      "\u001b[?25h  Getting requirements to build wheel ... \u001b[?25ldone\n",
      "\u001b[?25h  Preparing metadata (pyproject.toml) ... \u001b[?25ldone\n",
      "\u001b[?25hRequirement already satisfied: beautifulsoup4>=4.11.1 in ./.venv/lib/python3.12/site-packages (from yfinance) (4.12.3)\n",
      "Collecting html5lib>=1.1 (from yfinance)\n",
      "  Downloading html5lib-1.1-py2.py3-none-any.whl.metadata (16 kB)\n",
      "Requirement already satisfied: soupsieve>1.2 in ./.venv/lib/python3.12/site-packages (from beautifulsoup4>=4.11.1->yfinance) (2.5)\n",
      "Requirement already satisfied: six>=1.9 in ./.venv/lib/python3.12/site-packages (from html5lib>=1.1->yfinance) (1.16.0)\n",
      "Requirement already satisfied: webencodings in ./.venv/lib/python3.12/site-packages (from html5lib>=1.1->yfinance) (0.5.1)\n",
      "Requirement already satisfied: python-dateutil>=2.8.2 in ./.venv/lib/python3.12/site-packages (from pandas>=1.3.0->yfinance) (2.9.0.post0)\n",
      "Requirement already satisfied: tzdata>=2022.7 in ./.venv/lib/python3.12/site-packages (from pandas>=1.3.0->yfinance) (2024.1)\n",
      "Requirement already satisfied: charset-normalizer<4,>=2 in ./.venv/lib/python3.12/site-packages (from requests>=2.31->yfinance) (3.3.2)\n",
      "Requirement already satisfied: idna<4,>=2.5 in ./.venv/lib/python3.12/site-packages (from requests>=2.31->yfinance) (3.7)\n",
      "Requirement already satisfied: urllib3<3,>=1.21.1 in ./.venv/lib/python3.12/site-packages (from requests>=2.31->yfinance) (2.2.1)\n",
      "Requirement already satisfied: certifi>=2017.4.17 in ./.venv/lib/python3.12/site-packages (from requests>=2.31->yfinance) (2024.2.2)\n",
      "Downloading yfinance-0.2.38-py2.py3-none-any.whl (72 kB)\n",
      "\u001b[2K   \u001b[38;2;114;156;31m━━━━━━━━━━━━━━━━━━━━━━━━━━━━━━━━━━━━━━━━\u001b[0m \u001b[32m73.0/73.0 kB\u001b[0m \u001b[31m3.4 MB/s\u001b[0m eta \u001b[36m0:00:00\u001b[0m\n",
      "\u001b[?25hDownloading appdirs-1.4.4-py2.py3-none-any.whl (9.6 kB)\n",
      "Downloading html5lib-1.1-py2.py3-none-any.whl (112 kB)\n",
      "\u001b[2K   \u001b[38;2;114;156;31m━━━━━━━━━━━━━━━━━━━━━━━━━━━━━━━━━━━━━━━━\u001b[0m \u001b[32m112.2/112.2 kB\u001b[0m \u001b[31m3.7 MB/s\u001b[0m eta \u001b[36m0:00:00\u001b[0m\n",
      "\u001b[?25hUsing cached lxml-5.2.2-cp312-cp312-macosx_10_9_universal2.whl (8.2 MB)\n",
      "Downloading multitasking-0.0.11-py3-none-any.whl (8.5 kB)\n",
      "Building wheels for collected packages: frozendict, peewee\n",
      "  Building wheel for frozendict (pyproject.toml) ... \u001b[?25ldone\n",
      "\u001b[?25h  Created wheel for frozendict: filename=frozendict-2.4.4-cp312-cp312-macosx_14_0_arm64.whl size=16034 sha256=25d33c455dcc00a211ea73abff6ce9f72a781113cad0bebfaab1c7ce5e48a4b1\n",
      "  Stored in directory: /Users/shu-jenghsieh/Library/Caches/pip/wheels/9c/a3/ef/dfa942594fe499c643dcdc151641a953459c6da25116a72c83\n",
      "  Building wheel for peewee (pyproject.toml) ... \u001b[?25ldone\n",
      "\u001b[?25h  Created wheel for peewee: filename=peewee-3.17.5-py3-none-any.whl size=138635 sha256=15be316c713f53bd5020a9b29651b2b1b2fbeb661b8d5bdc27727425af61226b\n",
      "  Stored in directory: /Users/shu-jenghsieh/Library/Caches/pip/wheels/df/29/bd/2c860b403d4964724adb889d7e1451b2f3e2942603a199279d\n",
      "Successfully built frozendict peewee\n",
      "Installing collected packages: peewee, multitasking, appdirs, lxml, html5lib, frozendict, yfinance\n",
      "Successfully installed appdirs-1.4.4 frozendict-2.4.4 html5lib-1.1 lxml-5.2.2 multitasking-0.0.11 peewee-3.17.5 yfinance-0.2.38\n"
     ]
    }
   ],
   "source": [
    "!pip install yfinance"
   ]
  },
  {
   "cell_type": "code",
   "execution_count": null,
   "id": "0641db5f-813e-423e-bb59-7be690b1eaa2",
   "metadata": {},
   "outputs": [],
   "source": [
    "# Load the data into a Spark DataFrame\n",
    "# Assuming the CSV file contains columns: 'date', 'open', 'high', 'low', 'close', 'volume'\n",
    "file_path = \"path/to/00631L_monthly_data.csv\"\n",
    "data = spark.read.csv(file_path, header=True, inferSchema=True)\n",
    "\n",
    "# Calculate the 12-month moving average\n",
    "data = data.withColumn(\"moving_avg\", avg(col(\"close\")).over(Window.orderBy(\"date\").rowsBetween(-11, 0)))\n",
    "\n",
    "# Show the data with moving average\n",
    "data.show()"
   ]
  },
  {
   "cell_type": "code",
   "execution_count": 6,
   "id": "18164862-f0db-47ac-b2a8-213a2e7a55d0",
   "metadata": {},
   "outputs": [],
   "source": [
    "import yfinance as yf\n",
    "import pandas as pd\n",
    "\n",
    "def fetch_monthly_data(ticker):\n",
    "    # Fetch the data\n",
    "    stock = yf.Ticker(ticker)\n",
    "    hist = stock.history(period=\"max\")\n",
    "\n",
    "    # Resample to monthly data\n",
    "    monthly_data = hist.resample('ME').agg({\n",
    "        'Open': 'first',\n",
    "        'High': 'max',\n",
    "        'Low': 'min',\n",
    "        'Close': 'last',\n",
    "        'Volume': 'sum'\n",
    "    }).dropna()\n",
    "\n",
    "    return monthly_data\n",
    "\n",
    "def save_to_csv(data, filename):\n",
    "    data.to_csv(filename, index=True)\n",
    "\n",
    "# Fetch and save the data\n",
    "ticker = \"00631L.TW\"\n",
    "monthly_data = fetch_monthly_data(ticker)\n",
    "save_to_csv(monthly_data, \"00631L_monthly_data.csv\")\n"
   ]
  },
  {
   "cell_type": "code",
   "execution_count": null,
   "id": "9679c8f1-39ec-4873-902d-804de391eac9",
   "metadata": {},
   "outputs": [],
   "source": []
  }
 ],
 "metadata": {
  "kernelspec": {
   "display_name": "Python 3 (ipykernel)",
   "language": "python",
   "name": "python3"
  },
  "language_info": {
   "codemirror_mode": {
    "name": "ipython",
    "version": 3
   },
   "file_extension": ".py",
   "mimetype": "text/x-python",
   "name": "python",
   "nbconvert_exporter": "python",
   "pygments_lexer": "ipython3",
   "version": "3.12.3"
  }
 },
 "nbformat": 4,
 "nbformat_minor": 5
}
